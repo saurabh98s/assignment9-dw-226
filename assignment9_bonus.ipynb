{
 "cells": [
  {
   "cell_type": "code",
   "execution_count": 1,
   "metadata": {},
   "outputs": [
    {
     "data": {
      "text/html": [
       "<div>\n",
       "<style scoped>\n",
       "    .dataframe tbody tr th:only-of-type {\n",
       "        vertical-align: middle;\n",
       "    }\n",
       "\n",
       "    .dataframe tbody tr th {\n",
       "        vertical-align: top;\n",
       "    }\n",
       "\n",
       "    .dataframe thead th {\n",
       "        text-align: right;\n",
       "    }\n",
       "</style>\n",
       "<table border=\"1\" class=\"dataframe\">\n",
       "  <thead>\n",
       "    <tr style=\"text-align: right;\">\n",
       "      <th></th>\n",
       "      <th>bookID</th>\n",
       "      <th>title</th>\n",
       "      <th>authors</th>\n",
       "      <th>average_rating</th>\n",
       "      <th>isbn</th>\n",
       "      <th>isbn13</th>\n",
       "      <th>language_code</th>\n",
       "      <th>num_pages</th>\n",
       "      <th>ratings_count</th>\n",
       "      <th>text_reviews_count</th>\n",
       "      <th>publication_date</th>\n",
       "      <th>publisher</th>\n",
       "    </tr>\n",
       "  </thead>\n",
       "  <tbody>\n",
       "    <tr>\n",
       "      <th>0</th>\n",
       "      <td>1</td>\n",
       "      <td>Harry Potter and the Half-Blood Prince (Harry ...</td>\n",
       "      <td>J.K. Rowling/Mary GrandPré</td>\n",
       "      <td>4.57</td>\n",
       "      <td>0439785960</td>\n",
       "      <td>9780439785969</td>\n",
       "      <td>eng</td>\n",
       "      <td>652</td>\n",
       "      <td>2095690</td>\n",
       "      <td>27591</td>\n",
       "      <td>9/16/2006</td>\n",
       "      <td>Scholastic Inc.</td>\n",
       "    </tr>\n",
       "    <tr>\n",
       "      <th>1</th>\n",
       "      <td>2</td>\n",
       "      <td>Harry Potter and the Order of the Phoenix (Har...</td>\n",
       "      <td>J.K. Rowling/Mary GrandPré</td>\n",
       "      <td>4.49</td>\n",
       "      <td>0439358078</td>\n",
       "      <td>9780439358071</td>\n",
       "      <td>eng</td>\n",
       "      <td>870</td>\n",
       "      <td>2153167</td>\n",
       "      <td>29221</td>\n",
       "      <td>9/1/2004</td>\n",
       "      <td>Scholastic Inc.</td>\n",
       "    </tr>\n",
       "    <tr>\n",
       "      <th>2</th>\n",
       "      <td>4</td>\n",
       "      <td>Harry Potter and the Chamber of Secrets (Harry...</td>\n",
       "      <td>J.K. Rowling</td>\n",
       "      <td>4.42</td>\n",
       "      <td>0439554896</td>\n",
       "      <td>9780439554893</td>\n",
       "      <td>eng</td>\n",
       "      <td>352</td>\n",
       "      <td>6333</td>\n",
       "      <td>244</td>\n",
       "      <td>11/1/2003</td>\n",
       "      <td>Scholastic</td>\n",
       "    </tr>\n",
       "    <tr>\n",
       "      <th>3</th>\n",
       "      <td>5</td>\n",
       "      <td>Harry Potter and the Prisoner of Azkaban (Harr...</td>\n",
       "      <td>J.K. Rowling/Mary GrandPré</td>\n",
       "      <td>4.56</td>\n",
       "      <td>043965548X</td>\n",
       "      <td>9780439655484</td>\n",
       "      <td>eng</td>\n",
       "      <td>435</td>\n",
       "      <td>2339585</td>\n",
       "      <td>36325</td>\n",
       "      <td>5/1/2004</td>\n",
       "      <td>Scholastic Inc.</td>\n",
       "    </tr>\n",
       "    <tr>\n",
       "      <th>4</th>\n",
       "      <td>8</td>\n",
       "      <td>Harry Potter Boxed Set  Books 1-5 (Harry Potte...</td>\n",
       "      <td>J.K. Rowling/Mary GrandPré</td>\n",
       "      <td>4.78</td>\n",
       "      <td>0439682584</td>\n",
       "      <td>9780439682589</td>\n",
       "      <td>eng</td>\n",
       "      <td>2690</td>\n",
       "      <td>41428</td>\n",
       "      <td>164</td>\n",
       "      <td>9/13/2004</td>\n",
       "      <td>Scholastic</td>\n",
       "    </tr>\n",
       "  </tbody>\n",
       "</table>\n",
       "</div>"
      ],
      "text/plain": [
       "   bookID                                              title  \\\n",
       "0       1  Harry Potter and the Half-Blood Prince (Harry ...   \n",
       "1       2  Harry Potter and the Order of the Phoenix (Har...   \n",
       "2       4  Harry Potter and the Chamber of Secrets (Harry...   \n",
       "3       5  Harry Potter and the Prisoner of Azkaban (Harr...   \n",
       "4       8  Harry Potter Boxed Set  Books 1-5 (Harry Potte...   \n",
       "\n",
       "                      authors  average_rating        isbn         isbn13  \\\n",
       "0  J.K. Rowling/Mary GrandPré            4.57  0439785960  9780439785969   \n",
       "1  J.K. Rowling/Mary GrandPré            4.49  0439358078  9780439358071   \n",
       "2                J.K. Rowling            4.42  0439554896  9780439554893   \n",
       "3  J.K. Rowling/Mary GrandPré            4.56  043965548X  9780439655484   \n",
       "4  J.K. Rowling/Mary GrandPré            4.78  0439682584  9780439682589   \n",
       "\n",
       "  language_code    num_pages  ratings_count  text_reviews_count  \\\n",
       "0           eng          652        2095690               27591   \n",
       "1           eng          870        2153167               29221   \n",
       "2           eng          352           6333                 244   \n",
       "3           eng          435        2339585               36325   \n",
       "4           eng         2690          41428                 164   \n",
       "\n",
       "  publication_date        publisher  \n",
       "0        9/16/2006  Scholastic Inc.  \n",
       "1         9/1/2004  Scholastic Inc.  \n",
       "2        11/1/2003       Scholastic  \n",
       "3         5/1/2004  Scholastic Inc.  \n",
       "4        9/13/2004       Scholastic  "
      ]
     },
     "execution_count": 1,
     "metadata": {},
     "output_type": "execute_result"
    }
   ],
   "source": [
    "import pandas as pd\n",
    "import json\n",
    "\n",
    "\n",
    "# Load the CSV file\n",
    "df = pd.read_csv('books.csv',on_bad_lines='skip')\n",
    "df.head()\n"
   ]
  },
  {
   "cell_type": "code",
   "execution_count": null,
   "metadata": {},
   "outputs": [
    {
     "name": "stdout",
     "output_type": "stream",
     "text": [
      "books.jsonl file created successfully!\n"
     ]
    }
   ],
   "source": [
    "jsonl_data = []\n",
    "formatted_books = []\n",
    "for index,row in df.iterrows():\n",
    "    formatted_book = {\n",
    "        \"put\": f\"id:hybrid-search:doc::{row['bookID']}\",\n",
    "        \"fields\": {\n",
    "            \"doc_id\": row[\"bookID\"],\n",
    "            \"title\": row[\"title\"]\n",
    "        }\n",
    "    }\n",
    "    formatted_books.append(formatted_book)\n",
    "\n",
    "with open(\"books.jsonl\", \"w\") as f:\n",
    "    for book in formatted_books:\n",
    "        f.write(json.dumps(book) + \"\\n\")\n",
    "\n",
    "print(\"books.jsonl file created successfully!\")"
   ]
  },
  {
   "cell_type": "code",
   "execution_count": 13,
   "metadata": {},
   "outputs": [
    {
     "name": "stdout",
     "output_type": "stream",
     "text": [
      "Collecting vespacli\n",
      "  Obtaining dependency information for vespacli from https://files.pythonhosted.org/packages/f9/83/5f28363b017a773638191ccc53c5afe0d1076ab05baa2fffde43c72fba4a/vespacli-8.391.23-py3-none-any.whl.metadata\n",
      "  Downloading vespacli-8.391.23-py3-none-any.whl.metadata (15 kB)\n",
      "Downloading vespacli-8.391.23-py3-none-any.whl (47.7 MB)\n",
      "   ---------------------------------------- 0.0/47.7 MB ? eta -:--:--\n",
      "   ---------------------------------------- 0.0/47.7 MB 1.4 MB/s eta 0:00:35\n",
      "   ---------------------------------------- 0.4/47.7 MB 5.3 MB/s eta 0:00:09\n",
      "   - -------------------------------------- 2.3/47.7 MB 18.5 MB/s eta 0:00:03\n",
      "   --- ------------------------------------ 3.8/47.7 MB 21.9 MB/s eta 0:00:03\n",
      "   ------ --------------------------------- 7.3/47.7 MB 33.5 MB/s eta 0:00:02\n",
      "   ------- -------------------------------- 9.4/47.7 MB 37.7 MB/s eta 0:00:02\n",
      "   --------- ------------------------------ 10.8/47.7 MB 46.9 MB/s eta 0:00:01\n",
      "   --------- ------------------------------ 11.5/47.7 MB 50.4 MB/s eta 0:00:01\n",
      "   ---------- ----------------------------- 12.6/47.7 MB 40.9 MB/s eta 0:00:01\n",
      "   ---------- ----------------------------- 12.6/47.7 MB 32.8 MB/s eta 0:00:02\n",
      "   ------------- -------------------------- 15.5/47.7 MB 32.7 MB/s eta 0:00:01\n",
      "   --------------- ------------------------ 18.5/47.7 MB 34.4 MB/s eta 0:00:01\n",
      "   ------------------ --------------------- 21.7/47.7 MB 38.5 MB/s eta 0:00:01\n",
      "   -------------------- ------------------- 24.2/47.7 MB 65.2 MB/s eta 0:00:01\n",
      "   ---------------------- ----------------- 26.5/47.7 MB 59.8 MB/s eta 0:00:01\n",
      "   ---------------------- ----------------- 27.3/47.7 MB 59.5 MB/s eta 0:00:01\n",
      "   ----------------------- ---------------- 28.3/47.7 MB 46.7 MB/s eta 0:00:01\n",
      "   ----------------------- ---------------- 28.3/47.7 MB 36.4 MB/s eta 0:00:01\n",
      "   -------------------------- ------------- 31.1/47.7 MB 34.4 MB/s eta 0:00:01\n",
      "   ---------------------------- ----------- 34.4/47.7 MB 36.4 MB/s eta 0:00:01\n",
      "   ------------------------------ --------- 36.2/47.7 MB 36.3 MB/s eta 0:00:01\n",
      "   -------------------------------- ------- 39.1/47.7 MB 59.5 MB/s eta 0:00:01\n",
      "   ----------------------------------- ---- 41.8/47.7 MB 54.7 MB/s eta 0:00:01\n",
      "   ------------------------------------- -- 45.0/47.7 MB 54.7 MB/s eta 0:00:01\n",
      "   ---------------------------------------  47.6/47.7 MB 59.5 MB/s eta 0:00:01\n",
      "   ---------------------------------------  47.6/47.7 MB 59.5 MB/s eta 0:00:01\n",
      "   ---------------------------------------  47.6/47.7 MB 59.5 MB/s eta 0:00:01\n",
      "   ---------------------------------------  47.6/47.7 MB 59.5 MB/s eta 0:00:01\n",
      "   ---------------------------------------- 47.7/47.7 MB 31.2 MB/s eta 0:00:00\n",
      "Installing collected packages: vespacli\n",
      "Successfully installed vespacli-8.391.23\n"
     ]
    },
    {
     "name": "stderr",
     "output_type": "stream",
     "text": [
      "\n",
      "[notice] A new release of pip is available: 23.2.1 -> 24.3.1\n",
      "[notice] To update, run: python.exe -m pip install --upgrade pip\n"
     ]
    }
   ],
   "source": [
    "!pip3 install --ignore-installed vespacli"
   ]
  },
  {
   "cell_type": "code",
   "execution_count": 122,
   "metadata": {},
   "outputs": [
    {
     "name": "stdout",
     "output_type": "stream",
     "text": [
      "/cygdrive/s/SJSU/DATA_226\n"
     ]
    }
   ],
   "source": [
    "!pwd"
   ]
  },
  {
   "cell_type": "code",
   "execution_count": 133,
   "metadata": {},
   "outputs": [],
   "source": [
    "!vespa config set target local"
   ]
  },
  {
   "cell_type": "code",
   "execution_count": 140,
   "metadata": {},
   "outputs": [
    {
     "name": "stdout",
     "output_type": "stream",
     "text": [
      "Deploy API at http://127.0.0.1:19071 is ready\n"
     ]
    },
    {
     "name": "stderr",
     "output_type": "stream",
     "text": [
      "Waiting up to 5m0s for deploy API...\n"
     ]
    }
   ],
   "source": [
    "!vespa status deploy --wait 300"
   ]
  },
  {
   "cell_type": "code",
   "execution_count": 145,
   "metadata": {},
   "outputs": [
    {
     "name": "stdout",
     "output_type": "stream",
     "text": [
      "\n",
      "Success: Deployed 'app' with session ID 13\n"
     ]
    },
    {
     "name": "stderr",
     "output_type": "stream",
     "text": [
      "Waiting up to 5m0s for deploy API...\n",
      "WARNING Change(s) between active and new application that require restart:\n",
      "In cluster 'default' of type 'container':\n",
      "    Restart services of type 'container' because:\n",
      "        1) Content cluster 'books' has been removed\n",
      "\n",
      "Waiting up to 5m0s for deployment to converge...\n",
      "Waiting up to 5m0s for cluster discovery...\n",
      "Waiting up to 5m0s for container default...\n"
     ]
    }
   ],
   "source": [
    "!vespa deploy --wait 300 app\n"
   ]
  },
  {
   "cell_type": "code",
   "execution_count": 146,
   "metadata": {},
   "outputs": [
    {
     "name": "stdout",
     "output_type": "stream",
     "text": [
      "{\n",
      "  \"feeder.operation.count\": 11123,\n",
      "  \"feeder.seconds\": 18.720,\n",
      "  \"feeder.ok.count\": 11123,\n",
      "  \"feeder.ok.rate\": 594.186,\n",
      "  \"feeder.error.count\": 0,\n",
      "  \"feeder.inflight.count\": 0,\n",
      "  \"http.request.count\": 11123,\n",
      "  \"http.request.bytes\": 854323,\n",
      "  \"http.request.MBps\": 0.046,\n",
      "  \"http.exception.count\": 0,\n",
      "  \"http.response.count\": 11123,\n",
      "  \"http.response.bytes\": 994866,\n",
      "  \"http.response.MBps\": 0.053,\n",
      "  \"http.response.error.count\": 0,\n",
      "  \"http.response.latency.millis.min\": 7,\n",
      "  \"http.response.latency.millis.avg\": 43,\n",
      "  \"http.response.latency.millis.max\": 1118,\n",
      "  \"http.response.code.counts\": {\n",
      "    \"200\": 11123\n",
      "  }\n",
      "}\n"
     ]
    }
   ],
   "source": [
    "!vespa feed -t http://localhost:8080 books.jsonl"
   ]
  },
  {
   "cell_type": "code",
   "execution_count": 17,
   "metadata": {},
   "outputs": [
    {
     "name": "stdout",
     "output_type": "stream",
     "text": [
      "Collecting pyvespa"
     ]
    },
    {
     "name": "stderr",
     "output_type": "stream",
     "text": [
      "\n",
      "[notice] A new release of pip is available: 23.2.1 -> 24.3.1\n",
      "[notice] To update, run: python.exe -m pip install --upgrade pip\n"
     ]
    },
    {
     "name": "stdout",
     "output_type": "stream",
     "text": [
      "\n",
      "  Obtaining dependency information for pyvespa from https://files.pythonhosted.org/packages/cc/f8/769aae7f7890f6bfa41261ac5dc395aca86dab14c7f5cb4b808ba08f6f2e/pyvespa-0.50.0-py3-none-any.whl.metadata\n",
      "  Downloading pyvespa-0.50.0-py3-none-any.whl.metadata (18 kB)\n",
      "Requirement already satisfied: requests in s:\\sjsu\\data_226\\data_226\\lib\\site-packages (from pyvespa) (2.32.3)\n",
      "Collecting requests-toolbelt (from pyvespa)\n",
      "  Obtaining dependency information for requests-toolbelt from https://files.pythonhosted.org/packages/3f/51/d4db610ef29373b879047326cbf6fa98b6c1969d6f6dc423279de2b1be2c/requests_toolbelt-1.0.0-py2.py3-none-any.whl.metadata\n",
      "  Downloading requests_toolbelt-1.0.0-py2.py3-none-any.whl.metadata (14 kB)\n",
      "Collecting docker (from pyvespa)\n",
      "  Obtaining dependency information for docker from https://files.pythonhosted.org/packages/e3/26/57c6fb270950d476074c087527a558ccb6f4436657314bfb6cdf484114c4/docker-7.1.0-py3-none-any.whl.metadata\n",
      "  Using cached docker-7.1.0-py3-none-any.whl.metadata (3.8 kB)\n",
      "Requirement already satisfied: jinja2 in s:\\sjsu\\data_226\\data_226\\lib\\site-packages (from pyvespa) (3.1.4)\n",
      "Requirement already satisfied: cryptography in s:\\sjsu\\data_226\\data_226\\lib\\site-packages (from pyvespa) (42.0.8)\n",
      "Requirement already satisfied: aiohttp in s:\\sjsu\\data_226\\data_226\\lib\\site-packages (from pyvespa) (3.10.10)\n",
      "Collecting httpx[http2] (from pyvespa)\n",
      "  Obtaining dependency information for httpx[http2] from https://files.pythonhosted.org/packages/56/95/9377bcb415797e44274b51d46e3249eba641711cf3348050f76ee7b15ffc/httpx-0.27.2-py3-none-any.whl.metadata\n",
      "  Using cached httpx-0.27.2-py3-none-any.whl.metadata (7.1 kB)\n",
      "Collecting tenacity>=8.4.1 (from pyvespa)\n",
      "  Obtaining dependency information for tenacity>=8.4.1 from https://files.pythonhosted.org/packages/b6/cb/b86984bed139586d01532a587464b5805f12e397594f19f931c4c2fbfa61/tenacity-9.0.0-py3-none-any.whl.metadata\n",
      "  Using cached tenacity-9.0.0-py3-none-any.whl.metadata (1.2 kB)\n",
      "Requirement already satisfied: typing-extensions in s:\\sjsu\\data_226\\data_226\\lib\\site-packages (from pyvespa) (4.12.2)\n",
      "Requirement already satisfied: python-dateutil in s:\\sjsu\\data_226\\data_226\\lib\\site-packages (from pyvespa) (2.9.0.post0)\n",
      "Collecting fastcore>=1.7.8 (from pyvespa)\n",
      "  Obtaining dependency information for fastcore>=1.7.8 from https://files.pythonhosted.org/packages/60/ca/10828fb40dcf097d1af84c1f2f863bae4046d5949450bf95b3260f767672/fastcore-1.7.19-py3-none-any.whl.metadata\n",
      "  Downloading fastcore-1.7.19-py3-none-any.whl.metadata (3.5 kB)\n",
      "Requirement already satisfied: lxml in s:\\sjsu\\data_226\\data_226\\lib\\site-packages (from pyvespa) (5.3.0)\n",
      "Requirement already satisfied: packaging in s:\\sjsu\\data_226\\data_226\\lib\\site-packages (from fastcore>=1.7.8->pyvespa) (24.1)\n",
      "Requirement already satisfied: aiohappyeyeballs>=2.3.0 in s:\\sjsu\\data_226\\data_226\\lib\\site-packages (from aiohttp->pyvespa) (2.4.3)\n",
      "Requirement already satisfied: aiosignal>=1.1.2 in s:\\sjsu\\data_226\\data_226\\lib\\site-packages (from aiohttp->pyvespa) (1.3.1)\n",
      "Requirement already satisfied: attrs>=17.3.0 in s:\\sjsu\\data_226\\data_226\\lib\\site-packages (from aiohttp->pyvespa) (24.2.0)\n",
      "Requirement already satisfied: frozenlist>=1.1.1 in s:\\sjsu\\data_226\\data_226\\lib\\site-packages (from aiohttp->pyvespa) (1.5.0)\n",
      "Requirement already satisfied: multidict<7.0,>=4.5 in s:\\sjsu\\data_226\\data_226\\lib\\site-packages (from aiohttp->pyvespa) (6.1.0)\n",
      "Requirement already satisfied: yarl<2.0,>=1.12.0 in s:\\sjsu\\data_226\\data_226\\lib\\site-packages (from aiohttp->pyvespa) (1.17.1)\n",
      "Requirement already satisfied: cffi>=1.12 in s:\\sjsu\\data_226\\data_226\\lib\\site-packages (from cryptography->pyvespa) (1.17.1)\n",
      "Requirement already satisfied: pywin32>=304 in s:\\sjsu\\data_226\\data_226\\lib\\site-packages (from docker->pyvespa) (306)\n",
      "Requirement already satisfied: urllib3>=1.26.0 in s:\\sjsu\\data_226\\data_226\\lib\\site-packages (from docker->pyvespa) (2.2.2)\n",
      "Requirement already satisfied: charset-normalizer<4,>=2 in s:\\sjsu\\data_226\\data_226\\lib\\site-packages (from requests->pyvespa) (3.3.2)\n",
      "Requirement already satisfied: idna<4,>=2.5 in s:\\sjsu\\data_226\\data_226\\lib\\site-packages (from requests->pyvespa) (3.8)\n",
      "Requirement already satisfied: certifi>=2017.4.17 in s:\\sjsu\\data_226\\data_226\\lib\\site-packages (from requests->pyvespa) (2024.8.30)\n",
      "Collecting anyio (from httpx[http2]->pyvespa)\n",
      "  Obtaining dependency information for anyio from https://files.pythonhosted.org/packages/e4/f5/f2b75d2fc6f1a260f340f0e7c6a060f4dd2961cc16884ed851b0d18da06a/anyio-4.6.2.post1-py3-none-any.whl.metadata\n",
      "  Using cached anyio-4.6.2.post1-py3-none-any.whl.metadata (4.7 kB)\n",
      "Collecting httpcore==1.* (from httpx[http2]->pyvespa)\n",
      "  Obtaining dependency information for httpcore==1.* from https://files.pythonhosted.org/packages/06/89/b161908e2f51be56568184aeb4a880fd287178d176fd1c860d2217f41106/httpcore-1.0.6-py3-none-any.whl.metadata\n",
      "  Using cached httpcore-1.0.6-py3-none-any.whl.metadata (21 kB)\n",
      "Collecting sniffio (from httpx[http2]->pyvespa)\n",
      "  Obtaining dependency information for sniffio from https://files.pythonhosted.org/packages/e9/44/75a9c9421471a6c4805dbf2356f7c181a29c1879239abab1ea2cc8f38b40/sniffio-1.3.1-py3-none-any.whl.metadata\n",
      "  Using cached sniffio-1.3.1-py3-none-any.whl.metadata (3.9 kB)\n",
      "Collecting h2<5,>=3 (from httpx[http2]->pyvespa)\n",
      "  Obtaining dependency information for h2<5,>=3 from https://files.pythonhosted.org/packages/2a/e5/db6d438da759efbb488c4f3fbdab7764492ff3c3f953132efa6b9f0e9e53/h2-4.1.0-py3-none-any.whl.metadata\n",
      "  Downloading h2-4.1.0-py3-none-any.whl.metadata (3.6 kB)\n",
      "Collecting h11<0.15,>=0.13 (from httpcore==1.*->httpx[http2]->pyvespa)\n",
      "  Obtaining dependency information for h11<0.15,>=0.13 from https://files.pythonhosted.org/packages/95/04/ff642e65ad6b90db43e668d70ffb6736436c7ce41fcc549f4e9472234127/h11-0.14.0-py3-none-any.whl.metadata\n",
      "  Using cached h11-0.14.0-py3-none-any.whl.metadata (8.2 kB)\n",
      "Requirement already satisfied: MarkupSafe>=2.0 in s:\\sjsu\\data_226\\data_226\\lib\\site-packages (from jinja2->pyvespa) (2.1.5)\n",
      "Requirement already satisfied: six>=1.5 in s:\\sjsu\\data_226\\data_226\\lib\\site-packages (from python-dateutil->pyvespa) (1.16.0)\n",
      "Requirement already satisfied: pycparser in s:\\sjsu\\data_226\\data_226\\lib\\site-packages (from cffi>=1.12->cryptography->pyvespa) (2.22)\n",
      "Collecting hyperframe<7,>=6.0 (from h2<5,>=3->httpx[http2]->pyvespa)\n",
      "  Obtaining dependency information for hyperframe<7,>=6.0 from https://files.pythonhosted.org/packages/d7/de/85a784bcc4a3779d1753a7ec2dee5de90e18c7bcf402e71b51fcf150b129/hyperframe-6.0.1-py3-none-any.whl.metadata\n",
      "  Downloading hyperframe-6.0.1-py3-none-any.whl.metadata (2.7 kB)\n",
      "Collecting hpack<5,>=4.0 (from h2<5,>=3->httpx[http2]->pyvespa)\n",
      "  Obtaining dependency information for hpack<5,>=4.0 from https://files.pythonhosted.org/packages/d5/34/e8b383f35b77c402d28563d2b8f83159319b509bc5f760b15d60b0abf165/hpack-4.0.0-py3-none-any.whl.metadata\n",
      "  Downloading hpack-4.0.0-py3-none-any.whl.metadata (2.5 kB)\n",
      "Requirement already satisfied: propcache>=0.2.0 in s:\\sjsu\\data_226\\data_226\\lib\\site-packages (from yarl<2.0,>=1.12.0->aiohttp->pyvespa) (0.2.0)\n",
      "Downloading pyvespa-0.50.0-py3-none-any.whl (75 kB)\n",
      "   ---------------------------------------- 0.0/75.8 kB ? eta -:--:--\n",
      "   ---------------------------------------- 75.8/75.8 kB 4.1 MB/s eta 0:00:00\n",
      "Downloading fastcore-1.7.19-py3-none-any.whl (81 kB)\n",
      "   ---------------------------------------- 0.0/81.3 kB ? eta -:--:--\n",
      "   ---------------------------------------- 81.3/81.3 kB ? eta 0:00:00\n",
      "Using cached tenacity-9.0.0-py3-none-any.whl (28 kB)\n",
      "Using cached docker-7.1.0-py3-none-any.whl (147 kB)\n",
      "Using cached httpcore-1.0.6-py3-none-any.whl (78 kB)\n",
      "Downloading requests_toolbelt-1.0.0-py2.py3-none-any.whl (54 kB)\n",
      "   ---------------------------------------- 0.0/54.5 kB ? eta -:--:--\n",
      "   ---------------------------------------- 54.5/54.5 kB 2.8 MB/s eta 0:00:00\n",
      "Downloading h2-4.1.0-py3-none-any.whl (57 kB)\n",
      "   ---------------------------------------- 0.0/57.5 kB ? eta -:--:--\n",
      "   ---------------------------------------- 57.5/57.5 kB 3.1 MB/s eta 0:00:00\n",
      "Using cached anyio-4.6.2.post1-py3-none-any.whl (90 kB)\n",
      "Using cached sniffio-1.3.1-py3-none-any.whl (10 kB)\n",
      "Using cached httpx-0.27.2-py3-none-any.whl (76 kB)\n",
      "Using cached h11-0.14.0-py3-none-any.whl (58 kB)\n",
      "Downloading hpack-4.0.0-py3-none-any.whl (32 kB)\n",
      "Downloading hyperframe-6.0.1-py3-none-any.whl (12 kB)\n",
      "Installing collected packages: tenacity, sniffio, hyperframe, hpack, h11, fastcore, requests-toolbelt, httpcore, h2, docker, anyio, httpx, pyvespa\n",
      "Successfully installed anyio-4.6.2.post1 docker-7.1.0 fastcore-1.7.19 h11-0.14.0 h2-4.1.0 hpack-4.0.0 httpcore-1.0.6 httpx-0.27.2 hyperframe-6.0.1 pyvespa-0.50.0 requests-toolbelt-1.0.0 sniffio-1.3.1 tenacity-9.0.0\n"
     ]
    }
   ],
   "source": [
    "!pip install pyvespa"
   ]
  },
  {
   "cell_type": "code",
   "execution_count": null,
   "metadata": {},
   "outputs": [
    {
     "name": "stdout",
     "output_type": "stream",
     "text": [
      "  doc_id                                              title\n",
      "0      1  Harry Potter and the Half-Blood Prince (Harry ...\n",
      "1   2005  Harry Potter and the Half-Blood Prince (Harry ...\n",
      "2      9  Unauthorized Harry Potter Book Seven News: \"Ha...\n",
      "3      5  Harry Potter and the Prisoner of Azkaban (Harr...\n",
      "4  43504  Harry Potter and the Philosopher's Stone (Harr...\n",
      "  doc_id                                              title\n",
      "0   2005  Harry Potter and the Half-Blood Prince (Harry ...\n",
      "1      1  Harry Potter and the Half-Blood Prince (Harry ...\n",
      "2      9  Unauthorized Harry Potter Book Seven News: \"Ha...\n",
      "3      4  Harry Potter and the Chamber of Secrets (Harry...\n",
      "4  15881  Harry Potter and the Chamber of Secrets (Harry...\n",
      "  doc_id                                              title\n",
      "0  45625  A Viagem do Caminheiro da Alvorada (As Crónica...\n",
      "1  45607                             Las Crónicas de Narnia\n",
      "2  45623   O Sobrinho do Mágico (As Crónicas de Nárnia  #1)\n",
      "3  45615       O Trono de Prata (As Crónicas de Nárnia  #6)\n",
      "4  45617  O Cavalo e o Seu Rapaz (As Crónicas de Nárnia ...\n"
     ]
    }
   ],
   "source": [
    "import pandas as pd\n",
    "from vespa.application import Vespa\n",
    "from vespa.io import VespaResponse, VespaQueryResponse\n",
    "\n",
    "\n",
    "def display_hits_as_df(response: VespaQueryResponse, fields) -> pd.DataFrame:\n",
    "    records = []\n",
    "    for hit in response.hits:\n",
    "        record = {}\n",
    "        for field in fields:\n",
    "            record[field] = hit[\"fields\"][field]\n",
    "        records.append(record)\n",
    "    return pd.DataFrame(records)\n",
    "\n",
    "\n",
    "def keyword_search(app, search_query):\n",
    "    query = {\n",
    "        \"yql\": \"select * from sources * where userQuery() limit 5\",\n",
    "        \"query\": search_query,\n",
    "        \"ranking\": \"bm25\",\n",
    "    }\n",
    "    response = app.query(query)\n",
    "    return display_hits_as_df(response, [\"doc_id\", \"title\"])\n",
    "\n",
    "\n",
    "def semantic_search(app, query):\n",
    "    query = {\n",
    "        \"yql\": \"select * from sources * where ({targetHits:100}nearestNeighbor(embedding,e)) limit 5\",\n",
    "        \"query\": query,\n",
    "        \"ranking\": \"semantic\",\n",
    "        \"input.query(e)\": \"embed(@query)\"\n",
    "    }\n",
    "    response = app.query(query)\n",
    "    return display_hits_as_df(response, [\"doc_id\", \"title\"])\n",
    "\n",
    "\n",
    "def get_embedding(doc_id):\n",
    "    query = {\n",
    "        \"yql\" : f\"select doc_id, title, text, embedding from content.doc where doc_id contains '{doc_id}'\",\n",
    "        \"hits\": 1\n",
    "    }\n",
    "    result = app.query(query)\n",
    "    \n",
    "    if result.hits:\n",
    "        return result.hits[0]\n",
    "    return None\n",
    "\n",
    "\n",
    "def query_books_by_embedding(embedding_vector):\n",
    "    query = {\n",
    "        'hits': 5,\n",
    "        'yql': 'select * from content.doc where ({targetHits:5}nearestNeighbor(embedding, user_embedding))',\n",
    "        'ranking.features.query(user_embedding)': str(embedding_vector),\n",
    "        'ranking.profile': 'recommendation'\n",
    "    }\n",
    "    return app.query(query)\n",
    "\n",
    "\n",
    "# Replace with the host and port of your local Vespa instance\n",
    "app = Vespa(url=\"http://localhost\", port=8080)\n",
    "\n",
    "query = \"Harry Potter and the Half-Blood Prince\"\n",
    "\n",
    "df = keyword_search(app, query)\n",
    "print(df.head())\n",
    "\n",
    "df = semantic_search(app, query)\n",
    "print(df.head())\n",
    "\n",
    "emb = get_embedding(\"45625\")\n",
    "results = query_books_by_embedding(emb[\"fields\"][\"embedding\"])\n",
    "df = display_hits_as_df(results, [\"doc_id\", \"title\"])\n",
    "print(df.head())"
   ]
  },
  {
   "cell_type": "code",
   "execution_count": null,
   "metadata": {},
   "outputs": [],
   "source": []
  }
 ],
 "metadata": {
  "kernelspec": {
   "display_name": "data_226",
   "language": "python",
   "name": "python3"
  },
  "language_info": {
   "codemirror_mode": {
    "name": "ipython",
    "version": 3
   },
   "file_extension": ".py",
   "mimetype": "text/x-python",
   "name": "python",
   "nbconvert_exporter": "python",
   "pygments_lexer": "ipython3",
   "version": "3.11.7"
  }
 },
 "nbformat": 4,
 "nbformat_minor": 2
}
